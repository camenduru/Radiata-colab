{
  "cells": [
    {
      "attachments": {},
      "cell_type": "markdown",
      "metadata": {
        "id": "view-in-github"
      },
      "source": [
        "[![Open In Colab](https://colab.research.google.com/assets/colab-badge.svg)](https://colab.research.google.com/github/camenduru/Radiata-colab/blob/main/deliberate_v2_radiata_colab.ipynb)"
      ]
    },
    {
      "cell_type": "code",
      "execution_count": null,
      "metadata": {
        "id": "A3oY6IUdw9iD"
      },
      "outputs": [],
      "source": [
        "%cd /content\n",
        "\n",
        "!apt -y install -qq aria2\n",
        "!git clone -b v1.0 https://github.com/camenduru/Radiata.git\n",
        "\n",
        "%cd /content/Radiata\n",
        "\n",
        "!aria2c --console-log-level=error -c -x 16 -s 16 -k 1M https://huggingface.co/radiata/deliberate-v2/raw/main/engine.json -d /content/Radiata/models/accelerate/tensorrt/uf/deliberate-v2 -o engine.json\n",
        "!aria2c --console-log-level=error -c -x 16 -s 16 -k 1M https://huggingface.co/radiata/deliberate-v2/resolve/main/engine/unet.plan -d /content/Radiata/models/accelerate/tensorrt/uf/deliberate-v2/engine -o unet.plan\n",
        "!aria2c --console-log-level=error -c -x 16 -s 16 -k 1M https://huggingface.co/radiata/deliberate-v2/resolve/main/onnx/unet.onnx -d /content/Radiata/models/accelerate/tensorrt/uf/deliberate-v2/onnx -o unet.onnx\n",
        "!aria2c --console-log-level=error -c -x 16 -s 16 -k 1M https://huggingface.co/radiata/deliberate-v2/resolve/main/onnx/unet.opt.onnx -d /content/Radiata/models/accelerate/tensorrt/uf/deliberate-v2/onnx -o unet.opt.onnx\n",
        "\n",
        "!sed -i 's/runwayml\\/stable-diffusion-v1-5/uf\\/deliberate-v2/g' /content/Radiata/modules/config.py\n",
        "\n",
        "!python launch.py --share --tensorrt"
      ]
    }
  ],
  "metadata": {
    "accelerator": "GPU",
    "colab": {
      "gpuType": "T4",
      "provenance": []
    },
    "gpuClass": "standard",
    "kernelspec": {
      "display_name": "Python 3",
      "name": "python3"
    },
    "language_info": {
      "name": "python"
    }
  },
  "nbformat": 4,
  "nbformat_minor": 0
}
